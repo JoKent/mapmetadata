{
 "cells": [
  {
   "cell_type": "markdown",
   "id": "4714c00f",
   "metadata": {},
   "source": [
    "Reads in a geopackage and returns a metadata csv"
   ]
  },
  {
   "cell_type": "code",
   "execution_count": 1,
   "id": "e1b150cd",
   "metadata": {},
   "outputs": [],
   "source": [
    "import geopandas as gpd\n",
    "import pandas as pd\n",
    "import numpy as np\n",
    "import warnings\n",
    "from shapely import box"
   ]
  },
  {
   "cell_type": "code",
   "execution_count": null,
   "id": "627edb95",
   "metadata": {},
   "outputs": [],
   "source": [
    "# filter out warnings to prevent verbose output\n",
    "warnings.filterwarnings(\"ignore\", message=\".*Measured \\\\(M\\\\) geometry types are not supported.*\")\n",
    "\n",
    "# path to the geopackage \n",
    "geopackage = 'path/to/geopackage.gpkg'"
   ]
  },
  {
   "cell_type": "code",
   "execution_count": null,
   "id": "ccbaf8c2",
   "metadata": {},
   "outputs": [],
   "source": [
    "# retrieves a list of layers in the geopackage as layer_list\n",
    "pkg_layers = gpd.list_layers(geopackage)\n",
    "layer_list = pkg_layers['name'].values.tolist()"
   ]
  },
  {
   "cell_type": "code",
   "execution_count": null,
   "id": "9b3882db",
   "metadata": {},
   "outputs": [],
   "source": [
    "# create a dataframe of values for each layer in the geopackage with bounds, geometry and geometry type\n",
    "# remove invalid geometry layers and reindex\n",
    "lbounds, lgeom, lgt, gtlist = list(), list(), list(), list()\n",
    "\n",
    "for i in layer_list:\n",
    "    layer = gpd.read_file(geopackage, layer=i)\n",
    "    layer_bounds = layer.geometry.total_bounds\n",
    "    lbounds.append(layer_bounds)\n",
    "    geom = box(*layer.geometry.total_bounds)\n",
    "    lgeom.append(geom)\n",
    "    gt = layer.geom_type.unique()\n",
    "    gtlist.append(gt)\n",
    "gpkgdf = pd.DataFrame({'name':layer_list,'bounds':lbounds,'geometry':lgeom,'geomtype':gtlist})\n",
    "gpkgdf = gpd.GeoDataFrame(gpkgdf, crs=\"EPSG:27700\")\n",
    "gpkgdf = gpkgdf.loc[gpkgdf['geometry'].is_valid, :]\n",
    "gpkgdf.reset_index(drop=True, inplace=True)\n",
    "gpkgdf.head(2)"
   ]
  },
  {
   "cell_type": "code",
   "execution_count": null,
   "id": "5c515b29",
   "metadata": {},
   "outputs": [],
   "source": [
    "# if necessary create an amended geometry column via conversion, in this case to EPSG:4326, but check QGIS/ARCGIS \n",
    "gpkgdf['epsg4326'] = gpkgdf['geometry'].to_crs(\"EPSG:4326\")\n",
    "gpkgdf.head(2)"
   ]
  },
  {
   "cell_type": "code",
   "execution_count": null,
   "id": "cddcd47a",
   "metadata": {},
   "outputs": [],
   "source": [
    "# get the bounding box directional values\n",
    "def getbb(bvalue,dir):\n",
    "    if np.isnan(bvalue):\n",
    "        res = None\n",
    "    else:\n",
    "        bvint = int(bvalue*10000)\n",
    "        vstring =str(bvint).replace('-', '0')\n",
    "        while len(vstring) < 7:\n",
    "            vstring = '0'+vstring\n",
    "        if bvalue >= 0:\n",
    "            if dir == 'WE':\n",
    "                res = 'E'+vstring\n",
    "            else:\n",
    "                res = 'N'+vstring\n",
    "        else:\n",
    "            if dir == 'WE':\n",
    "                res = 'W'+vstring\n",
    "            else:\n",
    "                res = 'S'+vstring\n",
    "    return res  \n",
    "\n",
    "# formats boundary as degrees minutes seconds eg N0557934 to N055°79'34\"\n",
    "def formatCoords (boundary):\n",
    "    return boundary[:4] + '°' + boundary[4:6] + '\\'' + boundary[6:8] + '\"'"
   ]
  },
  {
   "cell_type": "code",
   "execution_count": null,
   "id": "11bcda0e",
   "metadata": {},
   "outputs": [],
   "source": [
    "# create a dataframe of bounding box values for each layer in the geopackage with valid geometry\n",
    "# use geometry column if no adjustment was needed to projection\n",
    "bbw, bbs, bbe, bbn, c255  = list(), list(), list(), list(), list()\n",
    " \n",
    "gvals = gpkgdf['epsg4326'].values.tolist()\n",
    "for i in gvals:\n",
    "    bounds = i.bounds\n",
    "    wval = getbb(bounds[0],'WE')\n",
    "    sval = getbb(bounds[1],'NS')\n",
    "    eval = getbb(bounds[2],'WE')\n",
    "    nval = getbb(bounds[3],'NS')\n",
    "    cval = '(%s--%s/%s--%s)' % (formatCoords(wval), formatCoords(eval), formatCoords(nval), formatCoords(sval))\n",
    "    bbw.append(wval)\n",
    "    bbs.append(sval)\n",
    "    bbe.append(eval)\n",
    "    bbn.append(nval)\n",
    "    c255.append(cval)\n",
    "bbdf = pd.DataFrame({'Bounding_Box_W':bbw, 'Bounding_Box_E':bbe, 'Bounding_Box_N':bbn, 'Bounding_Box_S':bbs,'Bounding_Box_255':c255})\n",
    "bbdf.head(2)"
   ]
  },
  {
   "cell_type": "code",
   "execution_count": null,
   "id": "99730b61",
   "metadata": {},
   "outputs": [],
   "source": [
    "# joins geometry to bounding box dataframe\n",
    "# outputs to csv \n",
    "meta = gpkgdf.join(bbdf)\n",
    "meta.to_csv('gpkg_meta.csv')"
   ]
  }
 ],
 "metadata": {
  "kernelspec": {
   "display_name": "Python 3",
   "language": "python",
   "name": "python3"
  },
  "language_info": {
   "codemirror_mode": {
    "name": "ipython",
    "version": 3
   },
   "file_extension": ".py",
   "mimetype": "text/x-python",
   "name": "python",
   "nbconvert_exporter": "python",
   "pygments_lexer": "ipython3",
   "version": "3.12.10"
  }
 },
 "nbformat": 4,
 "nbformat_minor": 5
}
