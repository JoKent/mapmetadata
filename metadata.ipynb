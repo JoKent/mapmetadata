{
 "cells": [
  {
   "cell_type": "markdown",
   "metadata": {},
   "source": [
    "Extracts map metadata and transforms it to csv"
   ]
  },
  {
   "cell_type": "code",
   "execution_count": 2,
   "metadata": {
    "trusted": true
   },
   "outputs": [],
   "source": [
    "import csv \n",
    "import pandas as pd\n",
    "import re\n",
    "import io\n",
    "import xml.etree.ElementTree as ET"
   ]
  },
  {
   "cell_type": "code",
   "execution_count": null,
   "metadata": {
    "trusted": true
   },
   "outputs": [],
   "source": [
    "# cleans up extraneous quotation marks in xml\n",
    "\n",
    "def cleancsvxml(xmlstr):\n",
    "    a = xmlstr.replace('\"\"','\"')\n",
    "    a = a[1:]\n",
    "    a = a[:-1]\n",
    "    a = a.replace(\"\\\\r\", \"\\r\")\n",
    "    a = a.replace(\"\\\\n\", \"\\n\")\n",
    "    return a"
   ]
  },
  {
   "cell_type": "code",
   "execution_count": null,
   "metadata": {},
   "outputs": [],
   "source": [
    "# takes a chunk of xml from the gdas export and returns a dataframe with the metadata\n",
    "\n",
    "def getdataframe(marcx):\n",
    "    mx = cleancsvxml(marcx)\n",
    "    root = ET.fromstring(mx)\n",
    "    bbox,bbw,bbe,bbn,bbs,cg,cg2,fformat,repstyle,scale = \"\",\"\",\"\",\"\",\"\",\"\",\"\",\"\",\"\",\"\"\n",
    "    for datafield in root.iter('{http://www.loc.gov/MARC21/slim}datafield'):\n",
    "        if datafield.attrib[\"tag\"] == '110':\n",
    "             auth = datafield[0].text\n",
    "        elif datafield.attrib[\"tag\"] == '245':\n",
    "            tt = datafield[0].text\n",
    "        elif datafield.attrib[\"tag\"] == '246':\n",
    "            tt = datafield[0].text\n",
    "        elif datafield.attrib[\"tag\"] == '034':\n",
    "            for subfield in datafield:\n",
    "                if subfield.attrib[\"code\"] == 'd':\n",
    "                    bbw = subfield.text\n",
    "                elif subfield.attrib[\"code\"] == 'e':\n",
    "                    bbe = subfield.text\n",
    "                elif subfield.attrib[\"code\"] == 'f':\n",
    "                    bbn = subfield.text\n",
    "                elif subfield.attrib[\"code\"] == 'g':\n",
    "                    bbs = subfield.text\n",
    "        elif datafield.attrib[\"tag\"] == '255':\n",
    "            for subfield in datafield:\n",
    "                if subfield.attrib[\"code\"] == 'a':\n",
    "                    scale = subfield.text\n",
    "                elif subfield.attrib[\"code\"] == 'b':\n",
    "                    proj = subfield.text\n",
    "                elif subfield.attrib[\"code\"] == 'c':\n",
    "                    bbox = subfield.text\n",
    "        elif datafield.attrib[\"tag\"] == '264':\n",
    "            for subfield in datafield:\n",
    "                if subfield.attrib[\"code\"] == 'a':\n",
    "                    pubplace = subfield.text\n",
    "                elif subfield.attrib[\"code\"] == 'b':\n",
    "                    pub = subfield.text\n",
    "                elif subfield.attrib[\"code\"] == 'c':\n",
    "                    pubdate = subfield.text\n",
    "        elif datafield.attrib[\"tag\"] == '300':\n",
    "            extent = datafield[0].text\n",
    "        elif datafield.attrib[\"tag\"] == '352':\n",
    "            for subfield in datafield:\n",
    "                if subfield.attrib[\"code\"] == 'a':\n",
    "                    rep = subfield.text\n",
    "                elif subfield.attrib[\"code\"] == 'b':\n",
    "                    repstyle = subfield.text\n",
    "                elif subfield.attrib[\"code\"] == 'c':\n",
    "                    fformat = subfield.text\n",
    "        elif datafield.attrib[\"tag\"] == '655':\n",
    "            if cg == \"\":\n",
    "                cg = datafield[0].text\n",
    "            else:\n",
    "                cg2 = datafield[0].text\n",
    "    df2 = pd.DataFrame([[auth, cg, pub, pubdate, tt, bbw,bbe,bbn,bbs, bbox, cg2, \" \", extent,fformat, \" \",pubplace,rep,repstyle,scale,dname]], columns=['Author','Cartographic_genre','Publisher','Publishing_Date','Title','Bounding_Box_W','Bounding_Box_E','Bounding_Box_N','Bounding_Box_S','Bounding_Box_255','Cartographic_genre_2','epsgCode','Extent','File_Format','ISBN','Place_of_publication','Representation','Representation_style','Scale','File name'])\n",
    "    return df2"
   ]
  },
  {
   "cell_type": "code",
   "execution_count": null,
   "metadata": {
    "trusted": true
   },
   "outputs": [],
   "source": [
    "# opens the spreadsheet, pulls out the data and returns a csv\n",
    "\n",
    "with open('metadata_all.csv', newline='',mode='r',encoding='utf-8') as csvfile:\n",
    "    reader = csv.DictReader(csvfile)\n",
    "    metadf = pd.DataFrame(columns=['Author','Cartographic_genre','Publisher','Publishing_Date','Title','Bounding_Box_W','Bounding_Box_E','Bounding_Box_N','Bounding_Box_S','Bounding_Box_255','Cartographic_genre_2','epsgCode','Extent','File_Format','ISBN','Place_of_publication','Representation','Representation_style','Scale','File name']) \n",
    "    for row in reader:\n",
    "        dname = row['datasetName']\n",
    "        marcx = row['marcXml']\n",
    "        df2 = getdataframe(marcx)\n",
    "        metadf = pd.concat([metadf,df2], ignore_index=True)\n",
    "    metadf.to_csv(\"csvxmltodata.csv\")"
   ]
  },
  {
   "cell_type": "code",
   "execution_count": null,
   "metadata": {},
   "outputs": [],
   "source": []
  },
  {
   "cell_type": "code",
   "execution_count": null,
   "metadata": {},
   "outputs": [],
   "source": []
  },
  {
   "cell_type": "code",
   "execution_count": null,
   "metadata": {},
   "outputs": [],
   "source": [
    "# prints out all of the data held in the xml for one file (Eire Thuaidh) to check for additional data held\n",
    "\n",
    "with open('metadata_all.csv', newline='',mode='r',encoding='utf-8') as csvfile:\n",
    "    reader = csv.DictReader(csvfile)\n",
    "    for row in reader:\n",
    "        if row[\"snapshotDisplayName\"] == \"Eire Thuaidh - Irish Translated Map\":\n",
    "            eire = row\n",
    "            mrx = row[\"marcXml\"]\n",
    "            marx = cleancsvxml(mrx)\n",
    "            root = ET.fromstring(marx)\n",
    "            for dataf in root.iter('{http://www.loc.gov/MARC21/slim}datafield'):\n",
    "                for subf in dataf:\n",
    "                    print(dataf.attrib,subf.attrib,subf.text)"
   ]
  },
  {
   "cell_type": "code",
   "execution_count": null,
   "metadata": {
    "trusted": true
   },
   "outputs": [],
   "source": [
    "# prints out all of the data held in the xml to check for additional data held\n",
    "with open('metadata_all.csv', newline='',mode='r',encoding='utf-8') as csvfile:\n",
    "    reader = csv.DictReader(csvfile)\n",
    "    for row in reader:\n",
    "        mrx = row[\"marcXml\"]\n",
    "        marx = cleancsvxml(mrx)\n",
    "        root = ET.fromstring(marx)\n",
    "        for sub in root.iter('{http://www.loc.gov/MARC21/slim}datafield'):\n",
    "            if sub.attrib[\"tag\"] == '034':\n",
    "                for subf in sub:\n",
    "                    print(subf.tag,subf.attrib,subf.text)"
   ]
  }
 ],
 "metadata": {
  "kernelspec": {
   "display_name": "Python 3",
   "language": "python",
   "name": "python3"
  },
  "language_info": {
   "codemirror_mode": {
    "name": "ipython",
    "version": 3
   },
   "file_extension": ".py",
   "mimetype": "text/x-python",
   "name": "python",
   "nbconvert_exporter": "python",
   "pygments_lexer": "ipython3",
   "version": "3.12.10"
  }
 },
 "nbformat": 4,
 "nbformat_minor": 4
}
